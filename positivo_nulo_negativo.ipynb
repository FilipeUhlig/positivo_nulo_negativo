{
 "cells": [
  {
   "cell_type": "markdown",
   "id": "8ce86434",
   "metadata": {},
   "source": [
    "### leia um n´umero e imprima na tela se ele ´e negativo, nulo ou positivo.\n"
   ]
  },
  {
   "cell_type": "code",
   "execution_count": 5,
   "id": "c8bf202e",
   "metadata": {},
   "outputs": [
    {
     "name": "stdout",
     "output_type": "stream",
     "text": [
      "Qual o número desejado? 0\n"
     ]
    }
   ],
   "source": [
    "x = float(input(\"Qual o número desejado? \"))"
   ]
  },
  {
   "cell_type": "code",
   "execution_count": 6,
   "id": "7baf336d",
   "metadata": {},
   "outputs": [
    {
     "name": "stdout",
     "output_type": "stream",
     "text": [
      "O número 0.0 é nulo.\n"
     ]
    }
   ],
   "source": [
    "if x > 0:\n",
    "    print(f\"O número {x} é positivo.\")\n",
    "\n",
    "elif x < 0:\n",
    "    print(f\"O número {x} é negativo.\")\n",
    "\n",
    "else:\n",
    "    print(f\"O número {x} é nulo.\")"
   ]
  },
  {
   "cell_type": "code",
   "execution_count": null,
   "id": "a023bd4b",
   "metadata": {},
   "outputs": [],
   "source": []
  }
 ],
 "metadata": {
  "kernelspec": {
   "display_name": "Python 3 (ipykernel)",
   "language": "python",
   "name": "python3"
  },
  "language_info": {
   "codemirror_mode": {
    "name": "ipython",
    "version": 3
   },
   "file_extension": ".py",
   "mimetype": "text/x-python",
   "name": "python",
   "nbconvert_exporter": "python",
   "pygments_lexer": "ipython3",
   "version": "3.10.9"
  }
 },
 "nbformat": 4,
 "nbformat_minor": 5
}
